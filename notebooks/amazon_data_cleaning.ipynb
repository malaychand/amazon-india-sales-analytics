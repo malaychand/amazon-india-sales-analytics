{
 "cells": [
  {
   "cell_type": "code",
   "execution_count": 2,
   "id": "663de147",
   "metadata": {},
   "outputs": [],
   "source": [
    "import numpy as np\n",
    "from datetime import datetime\n",
    "import re\n",
    "import warnings\n",
    "warnings.filterwarnings('ignore', category=UserWarning, message='Parsing.*in DD/MM/YYYY format')\n",
    "# warnings.filterwarnings('ignore')  # Suppress all warnings"
   ]
  },
  {
   "cell_type": "code",
   "execution_count": 3,
   "id": "ac6fd6ae",
   "metadata": {},
   "outputs": [],
   "source": [
    "import os\n",
    "import pandas as pd\n",
    "pd.set_option('display.max_columns', None)  # Show all columns\n",
    "pd.set_option('display.max_colwidth', None) # Show full column content\n",
    "dataset_folder = r\"C:\\Users\\malay chand\\Desktop\\project\\guvi_project\\Amazon\\Dataset\""
   ]
  },
  {
   "cell_type": "code",
   "execution_count": null,
   "id": "7be1c3ac",
   "metadata": {},
   "outputs": [],
   "source": [
    "\n",
    "import pandas as pd\n",
    "import numpy as np\n",
    "import matplotlib.pyplot as plt\n",
    "import seaborn as sns\n",
    "from datetime import datetime\n",
    "import warnings\n",
    "warnings.filterwarnings('ignore')\n",
    "\n",
    "# Set plotting style\n",
    "plt.style.use('default')\n",
    "sns.set_palette(\"husl\")\n",
    "\n",
    "\n",
    "## Data Loading\n",
    "\n",
    "# Load the datasets\n",
    "try:\n",
    "    # Load Amazon products data\n",
    "    amazon_products = pd.read_csv('amazon_products.csv')\n",
    "    print(\"Amazon Products Dataset loaded successfully!\")\n",
    "    print(f\"Shape: {products_df.shape}\")\n",
    "    \n",
    "    # Load Amazon customer data\n",
    "    amazon_complete = pd.read_csv('amazon.csv')\n",
    "    print(\"Amazon Customer Dataset loaded successfully!\")\n",
    "    print(f\"Shape: {customers_df.shape}\")\n",
    "    \n",
    "except FileNotFoundError as e:\n",
    "    print(f\"Error: {e}\")\n",
    "    print(\"Please ensure the CSV files are in the same directory as this notebook\")\n",
    "\n"
   ]
  },
  {
   "cell_type": "code",
   "execution_count": 7,
   "id": "9d470431",
   "metadata": {},
   "outputs": [
    {
     "name": "stdout",
     "output_type": "stream",
     "text": [
      "Shape: (1127609, 34)\n"
     ]
    }
   ],
   "source": [
    "amazon_complete = pd.read_csv(os.path.join(dataset_folder, \"amazon_india_complete_2015_2025.csv\"))\n",
    "print(f\"Shape: {amazon_complete.shape}\")"
   ]
  },
  {
   "cell_type": "code",
   "execution_count": 9,
   "id": "45e24456",
   "metadata": {},
   "outputs": [
    {
     "data": {
      "text/html": [
       "<div>\n",
       "<style scoped>\n",
       "    .dataframe tbody tr th:only-of-type {\n",
       "        vertical-align: middle;\n",
       "    }\n",
       "\n",
       "    .dataframe tbody tr th {\n",
       "        vertical-align: top;\n",
       "    }\n",
       "\n",
       "    .dataframe thead th {\n",
       "        text-align: right;\n",
       "    }\n",
       "</style>\n",
       "<table border=\"1\" class=\"dataframe\">\n",
       "  <thead>\n",
       "    <tr style=\"text-align: right;\">\n",
       "      <th></th>\n",
       "      <th>transaction_id</th>\n",
       "      <th>order_date</th>\n",
       "      <th>customer_id</th>\n",
       "      <th>product_id</th>\n",
       "      <th>product_name</th>\n",
       "      <th>category</th>\n",
       "      <th>subcategory</th>\n",
       "      <th>brand</th>\n",
       "      <th>original_price_inr</th>\n",
       "      <th>discount_percent</th>\n",
       "      <th>discounted_price_inr</th>\n",
       "      <th>quantity</th>\n",
       "      <th>subtotal_inr</th>\n",
       "      <th>delivery_charges</th>\n",
       "      <th>final_amount_inr</th>\n",
       "      <th>customer_city</th>\n",
       "      <th>customer_state</th>\n",
       "      <th>customer_tier</th>\n",
       "      <th>customer_spending_tier</th>\n",
       "      <th>customer_age_group</th>\n",
       "      <th>payment_method</th>\n",
       "      <th>delivery_days</th>\n",
       "      <th>delivery_type</th>\n",
       "      <th>is_prime_member</th>\n",
       "      <th>is_festival_sale</th>\n",
       "      <th>festival_name</th>\n",
       "      <th>customer_rating</th>\n",
       "      <th>return_status</th>\n",
       "      <th>order_month</th>\n",
       "      <th>order_year</th>\n",
       "      <th>order_quarter</th>\n",
       "      <th>product_weight_kg</th>\n",
       "      <th>is_prime_eligible</th>\n",
       "      <th>product_rating</th>\n",
       "    </tr>\n",
       "  </thead>\n",
       "  <tbody>\n",
       "    <tr>\n",
       "      <th>0</th>\n",
       "      <td>TXN_2023_00063013</td>\n",
       "      <td>2023-07-23</td>\n",
       "      <td>CUST_2023_00018393</td>\n",
       "      <td>PROD_000454</td>\n",
       "      <td>Vivo Y95 64GB Black</td>\n",
       "      <td>Electronics</td>\n",
       "      <td>Smartphones</td>\n",
       "      <td>Vivo</td>\n",
       "      <td>27340.84</td>\n",
       "      <td>21.57</td>\n",
       "      <td>21442.59</td>\n",
       "      <td>1</td>\n",
       "      <td>21442.59</td>\n",
       "      <td>0.0</td>\n",
       "      <td>21442.59</td>\n",
       "      <td>Kolkata</td>\n",
       "      <td>West Bengal</td>\n",
       "      <td>Metro</td>\n",
       "      <td>Standard</td>\n",
       "      <td>36-45</td>\n",
       "      <td>COD</td>\n",
       "      <td>3</td>\n",
       "      <td>Standard</td>\n",
       "      <td>False</td>\n",
       "      <td>False</td>\n",
       "      <td>NaN</td>\n",
       "      <td>4.0</td>\n",
       "      <td>Delivered</td>\n",
       "      <td>7</td>\n",
       "      <td>2023</td>\n",
       "      <td>3</td>\n",
       "      <td>0.20</td>\n",
       "      <td>True</td>\n",
       "      <td>3.5</td>\n",
       "    </tr>\n",
       "    <tr>\n",
       "      <th>1</th>\n",
       "      <td>TXN_2021_00064486</td>\n",
       "      <td>20-07-2021</td>\n",
       "      <td>CUST_2015_00002865</td>\n",
       "      <td>PROD_000579</td>\n",
       "      <td>Realme Realme 3 128GB Black</td>\n",
       "      <td>Electronics</td>\n",
       "      <td>Smartphones</td>\n",
       "      <td>Realme</td>\n",
       "      <td>32907.49</td>\n",
       "      <td>0.00</td>\n",
       "      <td>32907.49</td>\n",
       "      <td>3</td>\n",
       "      <td>98722.47</td>\n",
       "      <td>0.0</td>\n",
       "      <td>98722.47</td>\n",
       "      <td>Ludhiana</td>\n",
       "      <td>Punjab</td>\n",
       "      <td>Tier2</td>\n",
       "      <td>Standard</td>\n",
       "      <td>NaN</td>\n",
       "      <td>UPI</td>\n",
       "      <td>3</td>\n",
       "      <td>Standard</td>\n",
       "      <td>False</td>\n",
       "      <td>False</td>\n",
       "      <td>NaN</td>\n",
       "      <td>5/5</td>\n",
       "      <td>Delivered</td>\n",
       "      <td>7</td>\n",
       "      <td>2021</td>\n",
       "      <td>3</td>\n",
       "      <td>0.21</td>\n",
       "      <td>False</td>\n",
       "      <td>4.5</td>\n",
       "    </tr>\n",
       "    <tr>\n",
       "      <th>2</th>\n",
       "      <td>TXN_2017_00065617</td>\n",
       "      <td>2017-11-16</td>\n",
       "      <td>CUST_2016_00004057</td>\n",
       "      <td>PROD_000295</td>\n",
       "      <td>Vivo V7 32GB Blue</td>\n",
       "      <td>Electronics</td>\n",
       "      <td>Smartphones</td>\n",
       "      <td>Vivo</td>\n",
       "      <td>47,052.18</td>\n",
       "      <td>21.91</td>\n",
       "      <td>36741.38</td>\n",
       "      <td>1</td>\n",
       "      <td>36741.38</td>\n",
       "      <td>0.0</td>\n",
       "      <td>36741.38</td>\n",
       "      <td>Bangalore</td>\n",
       "      <td>Karnataka</td>\n",
       "      <td>Metro</td>\n",
       "      <td>Premium</td>\n",
       "      <td>36-45</td>\n",
       "      <td>Debit Card</td>\n",
       "      <td>6</td>\n",
       "      <td>Standard</td>\n",
       "      <td>False</td>\n",
       "      <td>False</td>\n",
       "      <td>NaN</td>\n",
       "      <td>5.0</td>\n",
       "      <td>Delivered</td>\n",
       "      <td>11</td>\n",
       "      <td>2017</td>\n",
       "      <td>4</td>\n",
       "      <td>0.24</td>\n",
       "      <td>True</td>\n",
       "      <td>4.3</td>\n",
       "    </tr>\n",
       "    <tr>\n",
       "      <th>3</th>\n",
       "      <td>TXN_2020_00054393</td>\n",
       "      <td>2020-05-04</td>\n",
       "      <td>CUST_2020_00014574</td>\n",
       "      <td>PROD_001654</td>\n",
       "      <td>Alienware Pavilion 4GB RAM Silver</td>\n",
       "      <td>Electronics</td>\n",
       "      <td>Laptops</td>\n",
       "      <td>Alienware</td>\n",
       "      <td>238725.44</td>\n",
       "      <td>59.60</td>\n",
       "      <td>96456.27</td>\n",
       "      <td>1</td>\n",
       "      <td>96456.27</td>\n",
       "      <td>0.0</td>\n",
       "      <td>96456.27</td>\n",
       "      <td>Bangalore</td>\n",
       "      <td>Karnataka</td>\n",
       "      <td>Metro</td>\n",
       "      <td>Premium</td>\n",
       "      <td>46-55</td>\n",
       "      <td>UPI</td>\n",
       "      <td>3</td>\n",
       "      <td>Standard</td>\n",
       "      <td>False</td>\n",
       "      <td>True</td>\n",
       "      <td>Summer Sale</td>\n",
       "      <td>5.0 stars</td>\n",
       "      <td>Delivered</td>\n",
       "      <td>5</td>\n",
       "      <td>2020</td>\n",
       "      <td>2</td>\n",
       "      <td>1.85</td>\n",
       "      <td>Yes</td>\n",
       "      <td>3.6</td>\n",
       "    </tr>\n",
       "    <tr>\n",
       "      <th>4</th>\n",
       "      <td>TXN_2018_00071646</td>\n",
       "      <td>2018-10-09</td>\n",
       "      <td>CUST_2018_00006275</td>\n",
       "      <td>PROD_000095</td>\n",
       "      <td>Motorola Moto X Play 16GB White</td>\n",
       "      <td>Electronics</td>\n",
       "      <td>Smartphones</td>\n",
       "      <td>Motorola</td>\n",
       "      <td>25970.76</td>\n",
       "      <td>0.00</td>\n",
       "      <td>25970.76</td>\n",
       "      <td>1</td>\n",
       "      <td>25970.76</td>\n",
       "      <td>0.0</td>\n",
       "      <td>25970.76</td>\n",
       "      <td>Kochi</td>\n",
       "      <td>Kerala</td>\n",
       "      <td>Tier2</td>\n",
       "      <td>Standard</td>\n",
       "      <td>18-25</td>\n",
       "      <td>COD</td>\n",
       "      <td>4</td>\n",
       "      <td>Standard</td>\n",
       "      <td>False</td>\n",
       "      <td>False</td>\n",
       "      <td>NaN</td>\n",
       "      <td>4.0</td>\n",
       "      <td>Delivered</td>\n",
       "      <td>10</td>\n",
       "      <td>2018</td>\n",
       "      <td>4</td>\n",
       "      <td>0.16</td>\n",
       "      <td>False</td>\n",
       "      <td>3.7</td>\n",
       "    </tr>\n",
       "    <tr>\n",
       "      <th>...</th>\n",
       "      <td>...</td>\n",
       "      <td>...</td>\n",
       "      <td>...</td>\n",
       "      <td>...</td>\n",
       "      <td>...</td>\n",
       "      <td>...</td>\n",
       "      <td>...</td>\n",
       "      <td>...</td>\n",
       "      <td>...</td>\n",
       "      <td>...</td>\n",
       "      <td>...</td>\n",
       "      <td>...</td>\n",
       "      <td>...</td>\n",
       "      <td>...</td>\n",
       "      <td>...</td>\n",
       "      <td>...</td>\n",
       "      <td>...</td>\n",
       "      <td>...</td>\n",
       "      <td>...</td>\n",
       "      <td>...</td>\n",
       "      <td>...</td>\n",
       "      <td>...</td>\n",
       "      <td>...</td>\n",
       "      <td>...</td>\n",
       "      <td>...</td>\n",
       "      <td>...</td>\n",
       "      <td>...</td>\n",
       "      <td>...</td>\n",
       "      <td>...</td>\n",
       "      <td>...</td>\n",
       "      <td>...</td>\n",
       "      <td>...</td>\n",
       "      <td>...</td>\n",
       "      <td>...</td>\n",
       "    </tr>\n",
       "    <tr>\n",
       "      <th>1127604</th>\n",
       "      <td>TXN_2018_00047331</td>\n",
       "      <td>2018-07-06</td>\n",
       "      <td>CUST_2017_00025689</td>\n",
       "      <td>PROD_000009</td>\n",
       "      <td>Apple iPhone 6 Plus 16GB Black</td>\n",
       "      <td>Electronics</td>\n",
       "      <td>Smartphones</td>\n",
       "      <td>Apple</td>\n",
       "      <td>134278.16</td>\n",
       "      <td>30.83</td>\n",
       "      <td>92886.49</td>\n",
       "      <td>1</td>\n",
       "      <td>92886.49</td>\n",
       "      <td>0.0</td>\n",
       "      <td>92886.49</td>\n",
       "      <td>Jaipur</td>\n",
       "      <td>Rajasthan</td>\n",
       "      <td>Tier1</td>\n",
       "      <td>Standard</td>\n",
       "      <td>26-35</td>\n",
       "      <td>Debit Card</td>\n",
       "      <td>4</td>\n",
       "      <td>Standard</td>\n",
       "      <td>False</td>\n",
       "      <td>True</td>\n",
       "      <td>Back to School</td>\n",
       "      <td>5.0</td>\n",
       "      <td>Delivered</td>\n",
       "      <td>7</td>\n",
       "      <td>2018</td>\n",
       "      <td>3</td>\n",
       "      <td>0.17</td>\n",
       "      <td>True</td>\n",
       "      <td>3.6</td>\n",
       "    </tr>\n",
       "    <tr>\n",
       "      <th>1127605</th>\n",
       "      <td>TXN_2022_00065321</td>\n",
       "      <td>2022-07-23</td>\n",
       "      <td>CUST_2021_00026763</td>\n",
       "      <td>PROD_001732</td>\n",
       "      <td>OnePlus iPad 8GB RAM Silver</td>\n",
       "      <td>Electronics</td>\n",
       "      <td>Tablets</td>\n",
       "      <td>OnePlus</td>\n",
       "      <td>97578.76</td>\n",
       "      <td>0.00</td>\n",
       "      <td>97578.76</td>\n",
       "      <td>1</td>\n",
       "      <td>97578.76</td>\n",
       "      <td>0.0</td>\n",
       "      <td>97578.76</td>\n",
       "      <td>Delhi</td>\n",
       "      <td>Delhi</td>\n",
       "      <td>Metro</td>\n",
       "      <td>Premium</td>\n",
       "      <td>36-45</td>\n",
       "      <td>UPI</td>\n",
       "      <td>1</td>\n",
       "      <td>Same Day</td>\n",
       "      <td>True</td>\n",
       "      <td>False</td>\n",
       "      <td>NaN</td>\n",
       "      <td>4.5</td>\n",
       "      <td>Delivered</td>\n",
       "      <td>7</td>\n",
       "      <td>2022</td>\n",
       "      <td>3</td>\n",
       "      <td>0.58</td>\n",
       "      <td>True</td>\n",
       "      <td>4.6</td>\n",
       "    </tr>\n",
       "    <tr>\n",
       "      <th>1127606</th>\n",
       "      <td>TXN_2023_00057908</td>\n",
       "      <td>01-07-2023</td>\n",
       "      <td>CUST_2023_00031035</td>\n",
       "      <td>PROD_001572</td>\n",
       "      <td>ASUS Inspiron 8GB RAM Black</td>\n",
       "      <td>Electronics</td>\n",
       "      <td>Laptops</td>\n",
       "      <td>ASUS</td>\n",
       "      <td>105284.29</td>\n",
       "      <td>43.31</td>\n",
       "      <td>59683.64</td>\n",
       "      <td>1</td>\n",
       "      <td>59683.64</td>\n",
       "      <td>0.0</td>\n",
       "      <td>59683.64</td>\n",
       "      <td>Bhubaneswar</td>\n",
       "      <td>Odisha</td>\n",
       "      <td>Tier2</td>\n",
       "      <td>Standard</td>\n",
       "      <td>26-35</td>\n",
       "      <td>Debit Card</td>\n",
       "      <td>1</td>\n",
       "      <td>Same Day</td>\n",
       "      <td>1</td>\n",
       "      <td>True</td>\n",
       "      <td>Back to School</td>\n",
       "      <td>4.0</td>\n",
       "      <td>Delivered</td>\n",
       "      <td>7</td>\n",
       "      <td>2023</td>\n",
       "      <td>3</td>\n",
       "      <td>1.37</td>\n",
       "      <td>True</td>\n",
       "      <td>4.2</td>\n",
       "    </tr>\n",
       "    <tr>\n",
       "      <th>1127607</th>\n",
       "      <td>TXN_2020_00035169</td>\n",
       "      <td>2020-04-12</td>\n",
       "      <td>CUST_2017_00005760</td>\n",
       "      <td>PROD_001582</td>\n",
       "      <td>ASUS Gaming 8GB RAM Silver</td>\n",
       "      <td>Electronics</td>\n",
       "      <td>Laptops</td>\n",
       "      <td>ASUS</td>\n",
       "      <td>Rs 72,687</td>\n",
       "      <td>0.00</td>\n",
       "      <td>72686.89</td>\n",
       "      <td>1</td>\n",
       "      <td>72686.89</td>\n",
       "      <td>0.0</td>\n",
       "      <td>72686.89</td>\n",
       "      <td>Mumbai</td>\n",
       "      <td>Maharashtra</td>\n",
       "      <td>Metro</td>\n",
       "      <td>Budget</td>\n",
       "      <td>26-35</td>\n",
       "      <td>COD</td>\n",
       "      <td>4</td>\n",
       "      <td>Standard</td>\n",
       "      <td>0</td>\n",
       "      <td>False</td>\n",
       "      <td>NaN</td>\n",
       "      <td>5.0</td>\n",
       "      <td>Delivered</td>\n",
       "      <td>4</td>\n",
       "      <td>2020</td>\n",
       "      <td>2</td>\n",
       "      <td>2.02</td>\n",
       "      <td>False</td>\n",
       "      <td>3.8</td>\n",
       "    </tr>\n",
       "    <tr>\n",
       "      <th>1127608</th>\n",
       "      <td>TXN_2022_00124835</td>\n",
       "      <td>2022-12-06</td>\n",
       "      <td>CUST_2022_00042212</td>\n",
       "      <td>PROD_001764</td>\n",
       "      <td>JBL Gaming Headset</td>\n",
       "      <td>Electronics</td>\n",
       "      <td>Audio</td>\n",
       "      <td>JBL</td>\n",
       "      <td>7092.55</td>\n",
       "      <td>0.00</td>\n",
       "      <td>7092.55</td>\n",
       "      <td>3</td>\n",
       "      <td>21277.65</td>\n",
       "      <td>0.0</td>\n",
       "      <td>21277.65</td>\n",
       "      <td>Surat</td>\n",
       "      <td>Gujarat</td>\n",
       "      <td>Tier1</td>\n",
       "      <td>Budget</td>\n",
       "      <td>18-25</td>\n",
       "      <td>UPI</td>\n",
       "      <td>2</td>\n",
       "      <td>Express</td>\n",
       "      <td>True</td>\n",
       "      <td>False</td>\n",
       "      <td>NaN</td>\n",
       "      <td>5.0</td>\n",
       "      <td>Delivered</td>\n",
       "      <td>12</td>\n",
       "      <td>2022</td>\n",
       "      <td>4</td>\n",
       "      <td>0.71</td>\n",
       "      <td>True</td>\n",
       "      <td>3.3</td>\n",
       "    </tr>\n",
       "  </tbody>\n",
       "</table>\n",
       "<p>1127609 rows × 34 columns</p>\n",
       "</div>"
      ],
      "text/plain": [
       "            transaction_id  order_date         customer_id   product_id  \\\n",
       "0        TXN_2023_00063013  2023-07-23  CUST_2023_00018393  PROD_000454   \n",
       "1        TXN_2021_00064486  20-07-2021  CUST_2015_00002865  PROD_000579   \n",
       "2        TXN_2017_00065617  2017-11-16  CUST_2016_00004057  PROD_000295   \n",
       "3        TXN_2020_00054393  2020-05-04  CUST_2020_00014574  PROD_001654   \n",
       "4        TXN_2018_00071646  2018-10-09  CUST_2018_00006275  PROD_000095   \n",
       "...                    ...         ...                 ...          ...   \n",
       "1127604  TXN_2018_00047331  2018-07-06  CUST_2017_00025689  PROD_000009   \n",
       "1127605  TXN_2022_00065321  2022-07-23  CUST_2021_00026763  PROD_001732   \n",
       "1127606  TXN_2023_00057908  01-07-2023  CUST_2023_00031035  PROD_001572   \n",
       "1127607  TXN_2020_00035169  2020-04-12  CUST_2017_00005760  PROD_001582   \n",
       "1127608  TXN_2022_00124835  2022-12-06  CUST_2022_00042212  PROD_001764   \n",
       "\n",
       "                              product_name     category  subcategory  \\\n",
       "0                      Vivo Y95 64GB Black  Electronics  Smartphones   \n",
       "1              Realme Realme 3 128GB Black  Electronics  Smartphones   \n",
       "2                        Vivo V7 32GB Blue  Electronics  Smartphones   \n",
       "3        Alienware Pavilion 4GB RAM Silver  Electronics      Laptops   \n",
       "4          Motorola Moto X Play 16GB White  Electronics  Smartphones   \n",
       "...                                    ...          ...          ...   \n",
       "1127604     Apple iPhone 6 Plus 16GB Black  Electronics  Smartphones   \n",
       "1127605        OnePlus iPad 8GB RAM Silver  Electronics      Tablets   \n",
       "1127606        ASUS Inspiron 8GB RAM Black  Electronics      Laptops   \n",
       "1127607         ASUS Gaming 8GB RAM Silver  Electronics      Laptops   \n",
       "1127608                 JBL Gaming Headset  Electronics        Audio   \n",
       "\n",
       "             brand original_price_inr  discount_percent  discounted_price_inr  \\\n",
       "0             Vivo           27340.84             21.57              21442.59   \n",
       "1           Realme           32907.49              0.00              32907.49   \n",
       "2             Vivo          47,052.18             21.91              36741.38   \n",
       "3        Alienware          238725.44             59.60              96456.27   \n",
       "4         Motorola           25970.76              0.00              25970.76   \n",
       "...            ...                ...               ...                   ...   \n",
       "1127604      Apple          134278.16             30.83              92886.49   \n",
       "1127605    OnePlus           97578.76              0.00              97578.76   \n",
       "1127606       ASUS          105284.29             43.31              59683.64   \n",
       "1127607       ASUS          Rs 72,687              0.00              72686.89   \n",
       "1127608        JBL            7092.55              0.00               7092.55   \n",
       "\n",
       "         quantity  subtotal_inr  delivery_charges  final_amount_inr  \\\n",
       "0               1      21442.59               0.0          21442.59   \n",
       "1               3      98722.47               0.0          98722.47   \n",
       "2               1      36741.38               0.0          36741.38   \n",
       "3               1      96456.27               0.0          96456.27   \n",
       "4               1      25970.76               0.0          25970.76   \n",
       "...           ...           ...               ...               ...   \n",
       "1127604         1      92886.49               0.0          92886.49   \n",
       "1127605         1      97578.76               0.0          97578.76   \n",
       "1127606         1      59683.64               0.0          59683.64   \n",
       "1127607         1      72686.89               0.0          72686.89   \n",
       "1127608         3      21277.65               0.0          21277.65   \n",
       "\n",
       "        customer_city customer_state customer_tier customer_spending_tier  \\\n",
       "0             Kolkata    West Bengal         Metro               Standard   \n",
       "1            Ludhiana         Punjab         Tier2               Standard   \n",
       "2           Bangalore      Karnataka         Metro                Premium   \n",
       "3           Bangalore      Karnataka         Metro                Premium   \n",
       "4               Kochi         Kerala         Tier2               Standard   \n",
       "...               ...            ...           ...                    ...   \n",
       "1127604        Jaipur      Rajasthan         Tier1               Standard   \n",
       "1127605         Delhi          Delhi         Metro                Premium   \n",
       "1127606   Bhubaneswar         Odisha         Tier2               Standard   \n",
       "1127607        Mumbai    Maharashtra         Metro                 Budget   \n",
       "1127608         Surat        Gujarat         Tier1                 Budget   \n",
       "\n",
       "        customer_age_group payment_method delivery_days delivery_type  \\\n",
       "0                    36-45            COD             3      Standard   \n",
       "1                      NaN            UPI             3      Standard   \n",
       "2                    36-45     Debit Card             6      Standard   \n",
       "3                    46-55            UPI             3      Standard   \n",
       "4                    18-25            COD             4      Standard   \n",
       "...                    ...            ...           ...           ...   \n",
       "1127604              26-35     Debit Card             4      Standard   \n",
       "1127605              36-45            UPI             1      Same Day   \n",
       "1127606              26-35     Debit Card             1      Same Day   \n",
       "1127607              26-35            COD             4      Standard   \n",
       "1127608              18-25            UPI             2       Express   \n",
       "\n",
       "        is_prime_member is_festival_sale   festival_name customer_rating  \\\n",
       "0                 False            False             NaN             4.0   \n",
       "1                 False            False             NaN             5/5   \n",
       "2                 False            False             NaN             5.0   \n",
       "3                 False             True     Summer Sale       5.0 stars   \n",
       "4                 False            False             NaN             4.0   \n",
       "...                 ...              ...             ...             ...   \n",
       "1127604           False             True  Back to School             5.0   \n",
       "1127605            True            False             NaN             4.5   \n",
       "1127606               1             True  Back to School             4.0   \n",
       "1127607               0            False             NaN             5.0   \n",
       "1127608            True            False             NaN             5.0   \n",
       "\n",
       "        return_status  order_month  order_year  order_quarter  \\\n",
       "0           Delivered            7        2023              3   \n",
       "1           Delivered            7        2021              3   \n",
       "2           Delivered           11        2017              4   \n",
       "3           Delivered            5        2020              2   \n",
       "4           Delivered           10        2018              4   \n",
       "...               ...          ...         ...            ...   \n",
       "1127604     Delivered            7        2018              3   \n",
       "1127605     Delivered            7        2022              3   \n",
       "1127606     Delivered            7        2023              3   \n",
       "1127607     Delivered            4        2020              2   \n",
       "1127608     Delivered           12        2022              4   \n",
       "\n",
       "         product_weight_kg is_prime_eligible  product_rating  \n",
       "0                     0.20              True             3.5  \n",
       "1                     0.21             False             4.5  \n",
       "2                     0.24              True             4.3  \n",
       "3                     1.85               Yes             3.6  \n",
       "4                     0.16             False             3.7  \n",
       "...                    ...               ...             ...  \n",
       "1127604               0.17              True             3.6  \n",
       "1127605               0.58              True             4.6  \n",
       "1127606               1.37              True             4.2  \n",
       "1127607               2.02             False             3.8  \n",
       "1127608               0.71              True             3.3  \n",
       "\n",
       "[1127609 rows x 34 columns]"
      ]
     },
     "execution_count": 9,
     "metadata": {},
     "output_type": "execute_result"
    }
   ],
   "source": [
    "amazon_complete"
   ]
  },
  {
   "cell_type": "code",
   "execution_count": 4,
   "id": "1ca4f68a",
   "metadata": {},
   "outputs": [
    {
     "name": "stdout",
     "output_type": "stream",
     "text": [
      "Shape: (2004, 11)\n"
     ]
    }
   ],
   "source": [
    "amazon_products = pd.read_csv(os.path.join(dataset_folder, \"amazon_india_products_catalog.csv\"))\n",
    "print(f\"Shape: {amazon_products.shape}\")"
   ]
  },
  {
   "cell_type": "code",
   "execution_count": 5,
   "id": "066a0a0c",
   "metadata": {},
   "outputs": [
    {
     "name": "stdout",
     "output_type": "stream",
     "text": [
      "<class 'pandas.core.frame.DataFrame'>\n",
      "RangeIndex: 2004 entries, 0 to 2003\n",
      "Data columns (total 11 columns):\n",
      " #   Column             Non-Null Count  Dtype  \n",
      "---  ------             --------------  -----  \n",
      " 0   product_id         2004 non-null   object \n",
      " 1   product_name       2004 non-null   object \n",
      " 2   category           2004 non-null   object \n",
      " 3   subcategory        2004 non-null   object \n",
      " 4   brand              2004 non-null   object \n",
      " 5   base_price_2015    2004 non-null   float64\n",
      " 6   weight_kg          2004 non-null   float64\n",
      " 7   rating             2004 non-null   float64\n",
      " 8   is_prime_eligible  2004 non-null   bool   \n",
      " 9   launch_year        2004 non-null   int64  \n",
      " 10  model              2004 non-null   object \n",
      "dtypes: bool(1), float64(3), int64(1), object(6)\n",
      "memory usage: 158.6+ KB\n"
     ]
    }
   ],
   "source": [
    "amazon_products.info()"
   ]
  },
  {
   "cell_type": "code",
   "execution_count": 6,
   "id": "56305b8b",
   "metadata": {},
   "outputs": [
    {
     "data": {
      "text/html": [
       "<div>\n",
       "<style scoped>\n",
       "    .dataframe tbody tr th:only-of-type {\n",
       "        vertical-align: middle;\n",
       "    }\n",
       "\n",
       "    .dataframe tbody tr th {\n",
       "        vertical-align: top;\n",
       "    }\n",
       "\n",
       "    .dataframe thead th {\n",
       "        text-align: right;\n",
       "    }\n",
       "</style>\n",
       "<table border=\"1\" class=\"dataframe\">\n",
       "  <thead>\n",
       "    <tr style=\"text-align: right;\">\n",
       "      <th></th>\n",
       "      <th>product_id</th>\n",
       "      <th>product_name</th>\n",
       "      <th>category</th>\n",
       "      <th>subcategory</th>\n",
       "      <th>brand</th>\n",
       "      <th>base_price_2015</th>\n",
       "      <th>weight_kg</th>\n",
       "      <th>rating</th>\n",
       "      <th>is_prime_eligible</th>\n",
       "      <th>launch_year</th>\n",
       "      <th>model</th>\n",
       "    </tr>\n",
       "  </thead>\n",
       "  <tbody>\n",
       "    <tr>\n",
       "      <th>0</th>\n",
       "      <td>PROD_000001</td>\n",
       "      <td>Apple iPhone 6 16GB Black</td>\n",
       "      <td>Electronics</td>\n",
       "      <td>Smartphones</td>\n",
       "      <td>Apple</td>\n",
       "      <td>190469.10</td>\n",
       "      <td>0.21</td>\n",
       "      <td>3.9</td>\n",
       "      <td>True</td>\n",
       "      <td>2015</td>\n",
       "      <td>iPhone 6</td>\n",
       "    </tr>\n",
       "    <tr>\n",
       "      <th>1</th>\n",
       "      <td>PROD_000002</td>\n",
       "      <td>Apple iPhone 6 32GB Black</td>\n",
       "      <td>Electronics</td>\n",
       "      <td>Smartphones</td>\n",
       "      <td>Apple</td>\n",
       "      <td>158424.89</td>\n",
       "      <td>0.18</td>\n",
       "      <td>3.4</td>\n",
       "      <td>True</td>\n",
       "      <td>2015</td>\n",
       "      <td>iPhone 6</td>\n",
       "    </tr>\n",
       "    <tr>\n",
       "      <th>2</th>\n",
       "      <td>PROD_000003</td>\n",
       "      <td>Apple iPhone 6 64GB Black</td>\n",
       "      <td>Electronics</td>\n",
       "      <td>Smartphones</td>\n",
       "      <td>Apple</td>\n",
       "      <td>118141.16</td>\n",
       "      <td>0.22</td>\n",
       "      <td>4.6</td>\n",
       "      <td>True</td>\n",
       "      <td>2015</td>\n",
       "      <td>iPhone 6</td>\n",
       "    </tr>\n",
       "    <tr>\n",
       "      <th>3</th>\n",
       "      <td>PROD_000004</td>\n",
       "      <td>Apple iPhone 6 16GB White</td>\n",
       "      <td>Electronics</td>\n",
       "      <td>Smartphones</td>\n",
       "      <td>Apple</td>\n",
       "      <td>211721.16</td>\n",
       "      <td>0.21</td>\n",
       "      <td>4.1</td>\n",
       "      <td>True</td>\n",
       "      <td>2015</td>\n",
       "      <td>iPhone 6</td>\n",
       "    </tr>\n",
       "    <tr>\n",
       "      <th>4</th>\n",
       "      <td>PROD_000005</td>\n",
       "      <td>Apple iPhone 6 32GB White</td>\n",
       "      <td>Electronics</td>\n",
       "      <td>Smartphones</td>\n",
       "      <td>Apple</td>\n",
       "      <td>114806.24</td>\n",
       "      <td>0.20</td>\n",
       "      <td>3.8</td>\n",
       "      <td>True</td>\n",
       "      <td>2015</td>\n",
       "      <td>iPhone 6</td>\n",
       "    </tr>\n",
       "    <tr>\n",
       "      <th>...</th>\n",
       "      <td>...</td>\n",
       "      <td>...</td>\n",
       "      <td>...</td>\n",
       "      <td>...</td>\n",
       "      <td>...</td>\n",
       "      <td>...</td>\n",
       "      <td>...</td>\n",
       "      <td>...</td>\n",
       "      <td>...</td>\n",
       "      <td>...</td>\n",
       "      <td>...</td>\n",
       "    </tr>\n",
       "    <tr>\n",
       "      <th>1999</th>\n",
       "      <td>PROD_002000</td>\n",
       "      <td>LG OLED TV Premium</td>\n",
       "      <td>Electronics</td>\n",
       "      <td>TV &amp; Entertainment</td>\n",
       "      <td>LG</td>\n",
       "      <td>240370.32</td>\n",
       "      <td>21.84</td>\n",
       "      <td>4.0</td>\n",
       "      <td>True</td>\n",
       "      <td>2016</td>\n",
       "      <td>OLED TV</td>\n",
       "    </tr>\n",
       "    <tr>\n",
       "      <th>2000</th>\n",
       "      <td>PROD_002001</td>\n",
       "      <td>LG QLED TV</td>\n",
       "      <td>Electronics</td>\n",
       "      <td>TV &amp; Entertainment</td>\n",
       "      <td>LG</td>\n",
       "      <td>86477.53</td>\n",
       "      <td>33.52</td>\n",
       "      <td>4.5</td>\n",
       "      <td>True</td>\n",
       "      <td>2015</td>\n",
       "      <td>QLED TV</td>\n",
       "    </tr>\n",
       "    <tr>\n",
       "      <th>2001</th>\n",
       "      <td>PROD_002002</td>\n",
       "      <td>LG Android TV</td>\n",
       "      <td>Electronics</td>\n",
       "      <td>TV &amp; Entertainment</td>\n",
       "      <td>LG</td>\n",
       "      <td>179795.49</td>\n",
       "      <td>26.43</td>\n",
       "      <td>4.0</td>\n",
       "      <td>True</td>\n",
       "      <td>2015</td>\n",
       "      <td>Android TV</td>\n",
       "    </tr>\n",
       "    <tr>\n",
       "      <th>2002</th>\n",
       "      <td>PROD_002003</td>\n",
       "      <td>LG Fire Stick</td>\n",
       "      <td>Electronics</td>\n",
       "      <td>TV &amp; Entertainment</td>\n",
       "      <td>LG</td>\n",
       "      <td>202942.01</td>\n",
       "      <td>41.83</td>\n",
       "      <td>3.2</td>\n",
       "      <td>True</td>\n",
       "      <td>2020</td>\n",
       "      <td>Fire Stick</td>\n",
       "    </tr>\n",
       "    <tr>\n",
       "      <th>2003</th>\n",
       "      <td>PROD_002004</td>\n",
       "      <td>LG Chromecast</td>\n",
       "      <td>Electronics</td>\n",
       "      <td>TV &amp; Entertainment</td>\n",
       "      <td>LG</td>\n",
       "      <td>185611.60</td>\n",
       "      <td>18.82</td>\n",
       "      <td>4.2</td>\n",
       "      <td>True</td>\n",
       "      <td>2021</td>\n",
       "      <td>Chromecast</td>\n",
       "    </tr>\n",
       "  </tbody>\n",
       "</table>\n",
       "<p>2004 rows × 11 columns</p>\n",
       "</div>"
      ],
      "text/plain": [
       "       product_id               product_name     category         subcategory  \\\n",
       "0     PROD_000001  Apple iPhone 6 16GB Black  Electronics         Smartphones   \n",
       "1     PROD_000002  Apple iPhone 6 32GB Black  Electronics         Smartphones   \n",
       "2     PROD_000003  Apple iPhone 6 64GB Black  Electronics         Smartphones   \n",
       "3     PROD_000004  Apple iPhone 6 16GB White  Electronics         Smartphones   \n",
       "4     PROD_000005  Apple iPhone 6 32GB White  Electronics         Smartphones   \n",
       "...           ...                        ...          ...                 ...   \n",
       "1999  PROD_002000         LG OLED TV Premium  Electronics  TV & Entertainment   \n",
       "2000  PROD_002001                 LG QLED TV  Electronics  TV & Entertainment   \n",
       "2001  PROD_002002              LG Android TV  Electronics  TV & Entertainment   \n",
       "2002  PROD_002003              LG Fire Stick  Electronics  TV & Entertainment   \n",
       "2003  PROD_002004              LG Chromecast  Electronics  TV & Entertainment   \n",
       "\n",
       "      brand  base_price_2015  weight_kg  rating  is_prime_eligible  \\\n",
       "0     Apple        190469.10       0.21     3.9               True   \n",
       "1     Apple        158424.89       0.18     3.4               True   \n",
       "2     Apple        118141.16       0.22     4.6               True   \n",
       "3     Apple        211721.16       0.21     4.1               True   \n",
       "4     Apple        114806.24       0.20     3.8               True   \n",
       "...     ...              ...        ...     ...                ...   \n",
       "1999     LG        240370.32      21.84     4.0               True   \n",
       "2000     LG         86477.53      33.52     4.5               True   \n",
       "2001     LG        179795.49      26.43     4.0               True   \n",
       "2002     LG        202942.01      41.83     3.2               True   \n",
       "2003     LG        185611.60      18.82     4.2               True   \n",
       "\n",
       "      launch_year       model  \n",
       "0            2015    iPhone 6  \n",
       "1            2015    iPhone 6  \n",
       "2            2015    iPhone 6  \n",
       "3            2015    iPhone 6  \n",
       "4            2015    iPhone 6  \n",
       "...           ...         ...  \n",
       "1999         2016     OLED TV  \n",
       "2000         2015     QLED TV  \n",
       "2001         2015  Android TV  \n",
       "2002         2020  Fire Stick  \n",
       "2003         2021  Chromecast  \n",
       "\n",
       "[2004 rows x 11 columns]"
      ]
     },
     "execution_count": 6,
     "metadata": {},
     "output_type": "execute_result"
    }
   ],
   "source": [
    "amazon_products"
   ]
  },
  {
   "cell_type": "code",
   "execution_count": null,
   "id": "d5932366",
   "metadata": {},
   "outputs": [],
   "source": []
  },
  {
   "cell_type": "markdown",
   "id": "d0e7fc76",
   "metadata": {},
   "source": [
    "## Data cleaning"
   ]
  },
  {
   "cell_type": "code",
   "execution_count": 154,
   "id": "74c1d5b8",
   "metadata": {},
   "outputs": [
    {
     "data": {
      "text/plain": [
       "count        1127609\n",
       "unique         14414\n",
       "top       2020-12-02\n",
       "freq             543\n",
       "Name: order_date, dtype: object"
      ]
     },
     "execution_count": 154,
     "metadata": {},
     "output_type": "execute_result"
    }
   ],
   "source": [
    "amazon_complete['order_date'].describe()"
   ]
  },
  {
   "cell_type": "code",
   "execution_count": 155,
   "id": "a93a5643",
   "metadata": {},
   "outputs": [],
   "source": [
    "amazon_complete['order_date'] = pd.to_datetime(amazon_complete['order_date'])"
   ]
  },
  {
   "cell_type": "code",
   "execution_count": 156,
   "id": "1c0df2c3",
   "metadata": {},
   "outputs": [
    {
     "name": "stdout",
     "output_type": "stream",
     "text": [
      "<class 'pandas.core.series.Series'>\n",
      "RangeIndex: 1127609 entries, 0 to 1127608\n",
      "Series name: order_date\n",
      "Non-Null Count    Dtype         \n",
      "--------------    -----         \n",
      "1127609 non-null  datetime64[ns]\n",
      "dtypes: datetime64[ns](1)\n",
      "memory usage: 8.6 MB\n"
     ]
    }
   ],
   "source": [
    "amazon_complete['order_date'].info()"
   ]
  },
  {
   "cell_type": "code",
   "execution_count": 157,
   "id": "fb9a085d",
   "metadata": {},
   "outputs": [
    {
     "data": {
      "text/plain": [
       "transaction_id                    object\n",
       "order_date                datetime64[ns]\n",
       "customer_id                       object\n",
       "product_id                        object\n",
       "product_name                      object\n",
       "category                          object\n",
       "subcategory                       object\n",
       "brand                             object\n",
       "original_price_inr                object\n",
       "discount_percent                 float64\n",
       "discounted_price_inr             float64\n",
       "quantity                           int64\n",
       "subtotal_inr                     float64\n",
       "delivery_charges                 float64\n",
       "final_amount_inr                 float64\n",
       "customer_city                     object\n",
       "customer_state                    object\n",
       "customer_tier                     object\n",
       "customer_spending_tier            object\n",
       "customer_age_group                object\n",
       "payment_method                    object\n",
       "delivery_days                     object\n",
       "delivery_type                     object\n",
       "is_prime_member                   object\n",
       "is_festival_sale                  object\n",
       "festival_name                     object\n",
       "customer_rating                   object\n",
       "return_status                     object\n",
       "order_month                        int64\n",
       "order_year                         int64\n",
       "order_quarter                      int64\n",
       "product_weight_kg                float64\n",
       "is_prime_eligible                 object\n",
       "product_rating                   float64\n",
       "dtype: object"
      ]
     },
     "execution_count": 157,
     "metadata": {},
     "output_type": "execute_result"
    }
   ],
   "source": [
    "amazon_complete.dtypes"
   ]
  },
  {
   "cell_type": "code",
   "execution_count": 158,
   "id": "b30f566b",
   "metadata": {},
   "outputs": [],
   "source": [
    "amazon_complete['original_price_inr'] = (\n",
    "    amazon_complete['original_price_inr']\n",
    "    .astype(str)\n",
    "    .str.extract(r'(\\d[\\d,]*\\.?\\d*)')[0]   # Extract numbers (with optional decimal)\n",
    "    .str.replace(',', '', regex=True)      # Remove commas\n",
    "    .astype(float)                         # Convert to float\n",
    "    .round(2)                              # Keep only 2 decimal places\n",
    ")"
   ]
  },
  {
   "cell_type": "code",
   "execution_count": 159,
   "id": "b4178628",
   "metadata": {},
   "outputs": [
    {
     "data": {
      "text/plain": [
       "0"
      ]
     },
     "execution_count": 159,
     "metadata": {},
     "output_type": "execute_result"
    }
   ],
   "source": [
    "amazon_complete['original_price_inr'].isna().sum()"
   ]
  },
  {
   "cell_type": "code",
   "execution_count": 160,
   "id": "73745ac3",
   "metadata": {},
   "outputs": [
    {
     "data": {
      "text/plain": [
       "array(['4.0', '5/5', '5.0', '5.0 stars', '3.5', nan, '4.0 stars', '4.5',\n",
       "       '3.0', '4.5 stars', '4/5', '3/5', '4.5/5.0', '3.0 stars',\n",
       "       '5.0/5.0', '4.0/5.0', '3.0/5.0', '3.5/5.0', '3', '3.5 stars', '4',\n",
       "       '5'], dtype=object)"
      ]
     },
     "execution_count": 160,
     "metadata": {},
     "output_type": "execute_result"
    }
   ],
   "source": [
    "amazon_complete['customer_rating'].unique()"
   ]
  },
  {
   "cell_type": "code",
   "execution_count": 161,
   "id": "f014a849",
   "metadata": {},
   "outputs": [],
   "source": [
    "amazon_complete['customer_rating'] = (\n",
    "    amazon_complete['customer_rating'].astype(str)\n",
    "    .str.extract(r'^([\\d\\.]+)')[0]     # extract only leading number before space or slash\n",
    "    .astype(float)\n",
    ")"
   ]
  },
  {
   "cell_type": "code",
   "execution_count": 162,
   "id": "b42ce791",
   "metadata": {},
   "outputs": [
    {
     "data": {
      "text/plain": [
       "array([4. , 5. , 3.5, nan, 4.5, 3. ])"
      ]
     },
     "execution_count": 162,
     "metadata": {},
     "output_type": "execute_result"
    }
   ],
   "source": [
    "amazon_complete['customer_rating'].unique()"
   ]
  },
  {
   "cell_type": "code",
   "execution_count": 163,
   "id": "b7f40fe3",
   "metadata": {},
   "outputs": [
    {
     "data": {
      "text/plain": [
       "array(['Kolkata', 'Ludhiana', 'Bangalore', 'Kochi', 'Mumbai', 'Delhi',\n",
       "       'Aligarh', 'Surat', 'Kanpur', 'Chennai', 'Hyderabad', 'Bareilly',\n",
       "       'Vadodara', 'Indore', 'Visakhapatnam', 'Lucknow', 'Pune',\n",
       "       'Bhubaneswar', 'Nagpur', 'Patna', 'Ahmedabad', 'Jaipur', 'Meerut',\n",
       "       'Allahabad', 'Varanasi', 'Coimbatore', 'Moradabad', 'Saharanpur',\n",
       "       'Chandigarh', 'New Delhi', 'Gorakhpur', 'Delhi NCR', 'delhi',\n",
       "       'Bengalore', 'Banglore', 'CHENNAI', 'Mumbai ', 'mumba', 'chenai',\n",
       "       'Bengaluru', 'Calcutta', 'Kolkata ', 'KOLKATA', 'DELHI', 'Bombay',\n",
       "       'Madras', 'kolkata', 'Chennai ', 'MUMBAI', 'BANGALORE'],\n",
       "      dtype=object)"
      ]
     },
     "execution_count": 163,
     "metadata": {},
     "output_type": "execute_result"
    }
   ],
   "source": [
    "amazon_complete['customer_city'].unique()"
   ]
  },
  {
   "cell_type": "code",
   "execution_count": 164,
   "id": "4ba8dabc",
   "metadata": {},
   "outputs": [
    {
     "name": "stdout",
     "output_type": "stream",
     "text": [
      "['Kolkata' 'Ludhiana' 'Bengaluru' 'Kochi' 'Mumbai' 'Delhi' 'Aligarh'\n",
      " 'Surat' 'Kanpur' 'Chennai' 'Hyderabad' 'Bareilly' 'Vadodara' 'Indore'\n",
      " 'Visakhapatnam' 'Lucknow' 'Pune' 'Bhubaneswar' 'Nagpur' 'Patna'\n",
      " 'Ahmedabad' 'Jaipur' 'Meerut' 'Allahabad' 'Varanasi' 'Coimbatore'\n",
      " 'Moradabad' 'Saharanpur' 'Chandigarh' 'Gorakhpur']\n"
     ]
    }
   ],
   "source": [
    "# Step 1: Clean spaces + lowercase\n",
    "amazon_complete['customer_city'] = amazon_complete['customer_city'].str.strip().str.lower()\n",
    "city_mapping = {\n",
    "    # Mumbai variations\n",
    "    'bombay': 'mumbai', 'mumba': 'mumbai', 'mumbai': 'mumbai', 'mumbai ': 'mumbai', 'mumbai': 'mumbai', 'mumbai': 'mumbai', 'mumbai': 'mumbai',\n",
    "    # Bangalore variations\n",
    "    'bangalore': 'bengaluru', 'bengalore': 'bengaluru', 'banglore': 'bengaluru', 'bangalore': 'bengaluru', 'bangalore': 'bengaluru',\n",
    "    'bengaluru': 'bengaluru', 'bangalore': 'bengaluru',\n",
    "    # Kolkata variations\n",
    "    'kolkata': 'kolkata', 'kolkata ': 'kolkata', 'kolkata': 'kolkata', 'kolkata': 'kolkata', 'calcutta': 'kolkata',\n",
    "    # Chennai variations\n",
    "    'chennai': 'chennai', 'chenai': 'chennai', 'madras': 'chennai', 'chennai ': 'chennai',\n",
    "    # Delhi variations\n",
    "    'delhi': 'delhi', 'new delhi': 'delhi', 'delhi ncr': 'delhi'\n",
    "}\n",
    "\n",
    "# Step 3: Replace using map, defaulting to cleaned value if not in dictionary\n",
    "amazon_complete['customer_city'] = amazon_complete['customer_city'].map(city_mapping).fillna(amazon_complete['customer_city']).str.title()\n",
    "\n",
    "print(amazon_complete['customer_city'].unique())\n"
   ]
  },
  {
   "cell_type": "code",
   "execution_count": 165,
   "id": "685c97a5",
   "metadata": {},
   "outputs": [
    {
     "data": {
      "text/plain": [
       "array(['True', 'False', 'Yes', 'TRUE', 'FALSE', '1', '0', 'No'],\n",
       "      dtype=object)"
      ]
     },
     "execution_count": 165,
     "metadata": {},
     "output_type": "execute_result"
    }
   ],
   "source": [
    "amazon_complete['is_prime_eligible'].unique()"
   ]
  },
  {
   "cell_type": "code",
   "execution_count": 166,
   "id": "68c4fdd0",
   "metadata": {},
   "outputs": [],
   "source": [
    "def normalize_boolean(value):\n",
    "    if pd.isna(value):   # Handle missing values (NaN/None)\n",
    "        return np.nan\n",
    "    v = str(value).strip().lower()\n",
    "    if v in ['true', 'yes', 'y', '1']:\n",
    "        return True\n",
    "    elif v in ['false', 'no', 'n', '0']:\n",
    "        return False\n",
    "    else:\n",
    "        return np.nan  "
   ]
  },
  {
   "cell_type": "code",
   "execution_count": 167,
   "id": "6efbbd57",
   "metadata": {},
   "outputs": [],
   "source": [
    "amazon_complete['is_festival_sale'] = amazon_complete['is_festival_sale'].apply(normalize_boolean)\n",
    "amazon_complete['is_prime_member'] = amazon_complete['is_prime_member'].apply(normalize_boolean)\n",
    "amazon_complete['is_prime_eligible'] = amazon_complete['is_prime_eligible'].apply(normalize_boolean)"
   ]
  },
  {
   "cell_type": "code",
   "execution_count": 168,
   "id": "db083956",
   "metadata": {},
   "outputs": [
    {
     "data": {
      "text/plain": [
       "array([ True, False])"
      ]
     },
     "execution_count": 168,
     "metadata": {},
     "output_type": "execute_result"
    }
   ],
   "source": [
    "amazon_complete['is_prime_eligible'].unique()"
   ]
  },
  {
   "cell_type": "code",
   "execution_count": 169,
   "id": "5f0c3126",
   "metadata": {},
   "outputs": [
    {
     "data": {
      "text/plain": [
       "array(['Electronics', 'Electronicss', 'Electronic',\n",
       "       'Electronics & Accessories', 'ELECTRONICS'], dtype=object)"
      ]
     },
     "execution_count": 169,
     "metadata": {},
     "output_type": "execute_result"
    }
   ],
   "source": [
    "amazon_complete['category'].unique()"
   ]
  },
  {
   "cell_type": "code",
   "execution_count": 170,
   "id": "8b9b621b",
   "metadata": {},
   "outputs": [],
   "source": [
    "amazon_complete['category'] = amazon_complete['category'].str.strip().str.lower()\n",
    "category_mapping = {\n",
    "    'electronics': 'Electronics',\n",
    "    'electronic': 'Electronics',\n",
    "    'electronicss': 'Electronics',\n",
    "    'electronics & accessories': 'Electronics & Accessories'\n",
    "}\n",
    "amazon_complete['category'] = amazon_complete['category'].map(category_mapping).fillna( amazon_complete['category']).str.title()"
   ]
  },
  {
   "cell_type": "code",
   "execution_count": 171,
   "id": "040cd603",
   "metadata": {},
   "outputs": [
    {
     "data": {
      "text/plain": [
       "array(['Electronics', 'Electronics & Accessories'], dtype=object)"
      ]
     },
     "execution_count": 171,
     "metadata": {},
     "output_type": "execute_result"
    }
   ],
   "source": [
    "amazon_complete['category'].unique()"
   ]
  },
  {
   "cell_type": "code",
   "execution_count": 172,
   "id": "ff610ccc",
   "metadata": {},
   "outputs": [
    {
     "data": {
      "text/plain": [
       "array(['3', '6', '4', '5', '2', '1', 'Same Day', '1-2 days', '7', '-1',\n",
       "       'Express', '15', '0'], dtype=object)"
      ]
     },
     "execution_count": 172,
     "metadata": {},
     "output_type": "execute_result"
    }
   ],
   "source": [
    "amazon_complete['delivery_days'].unique()"
   ]
  },
  {
   "cell_type": "code",
   "execution_count": 173,
   "id": "54c0cef8",
   "metadata": {},
   "outputs": [],
   "source": [
    "def clean_delivery(x):\n",
    "    if pd.isna(x): \n",
    "        return np.nan\n",
    "    x = str(x).strip().lower()\n",
    "\n",
    "    # Handle special cases\n",
    "    if x in [\"same day\", \"express\"]:\n",
    "        return 0\n",
    "\n",
    "    # Handle ranges like \"1-2 days\"\n",
    "    range_match = re.match(r'(\\d+)-(\\d+)', x)\n",
    "    if range_match:\n",
    "        n1, n2 = map(int, range_match.groups())\n",
    "        return round((n1 + n2) / 2)\n",
    "\n",
    "    # Extract single number\n",
    "    num_match = re.search(r'\\d+', x)\n",
    "    if num_match:\n",
    "        days = int(num_match.group())\n",
    "        return days if 0 <= days <= 30 else np.nan\n",
    "\n",
    "    return np.nan\n",
    "\n",
    "amazon_complete['delivery_days'] = amazon_complete['delivery_days'].apply(clean_delivery)"
   ]
  },
  {
   "cell_type": "code",
   "execution_count": 174,
   "id": "9411a984",
   "metadata": {},
   "outputs": [
    {
     "data": {
      "text/plain": [
       "array([ 3,  6,  4,  5,  2,  1,  0,  7, 15], dtype=int64)"
      ]
     },
     "execution_count": 174,
     "metadata": {},
     "output_type": "execute_result"
    }
   ],
   "source": [
    "amazon_complete['delivery_days'].unique()"
   ]
  },
  {
   "cell_type": "markdown",
   "id": "5d20411e",
   "metadata": {},
   "source": [
    "## Handle Duplicate Transactions"
   ]
  },
  {
   "cell_type": "code",
   "execution_count": 175,
   "id": "8e227400",
   "metadata": {},
   "outputs": [
    {
     "data": {
      "text/plain": [
       "0"
      ]
     },
     "execution_count": 175,
     "metadata": {},
     "output_type": "execute_result"
    }
   ],
   "source": [
    "amazon_complete[\"transaction_id\"].duplicated().sum()"
   ]
  },
  {
   "cell_type": "code",
   "execution_count": 176,
   "id": "75d20fb9",
   "metadata": {},
   "outputs": [
    {
     "data": {
      "text/plain": [
       "array([1, 3, 2], dtype=int64)"
      ]
     },
     "execution_count": 176,
     "metadata": {},
     "output_type": "execute_result"
    }
   ],
   "source": [
    "amazon_complete['quantity'].unique()"
   ]
  },
  {
   "cell_type": "code",
   "execution_count": 177,
   "id": "6918ec11",
   "metadata": {},
   "outputs": [],
   "source": [
    "duplicate_cols = [\n",
    "    'order_date', 'customer_id', 'product_id',\n",
    "    'original_price_inr', 'discounted_price_inr', 'final_amount_inr'\n",
    "]\n",
    "\n",
    "# Step 1: Find potential duplicates\n",
    "amazon_complete['is_duplicate'] = amazon_complete.duplicated(subset=duplicate_cols, keep=False)"
   ]
  },
  {
   "cell_type": "code",
   "execution_count": 178,
   "id": "d17189a3",
   "metadata": {},
   "outputs": [],
   "source": [
    "# Group duplicates by duplicate_cols to inspect them together\n",
    "grouped = amazon_complete[amazon_complete['is_duplicate']].groupby(duplicate_cols)\n",
    "\n",
    "def classify_duplicate(group):\n",
    "    \"\"\"\n",
    "    Classifies a group of duplicate rows as either bulk_order or error_duplicate.\n",
    "    \"\"\"\n",
    "    # If quantity sums up to match subtotal/final amount -> likely bulk order\n",
    "    total_quantity = group['quantity'].sum()\n",
    "    total_amount = group['final_amount_inr'].sum()\n",
    "    \n",
    "    # Compute expected amount per unit (based on first row)\n",
    "    price_per_unit = group['final_amount_inr'].iloc[0] / group['quantity'].iloc[0]\n",
    "\n",
    "    expected_total = total_quantity * price_per_unit\n",
    "\n",
    "    # Allow small floating point tolerance\n",
    "    if abs(expected_total - total_amount) < 1e-2:\n",
    "        return \"bulk_order\"\n",
    "    else:\n",
    "        return \"error_duplicate\"\n",
    "duplicate_classification = grouped.apply(classify_duplicate).reset_index(name='duplicate_type')    "
   ]
  },
  {
   "cell_type": "code",
   "execution_count": 179,
   "id": "605fb20b",
   "metadata": {},
   "outputs": [
    {
     "data": {
      "text/plain": [
       "bulk_order    5543\n",
       "Name: duplicate_type, dtype: int64"
      ]
     },
     "execution_count": 179,
     "metadata": {},
     "output_type": "execute_result"
    }
   ],
   "source": [
    "duplicate_classification['duplicate_type'].value_counts()"
   ]
  },
  {
   "cell_type": "code",
   "execution_count": 180,
   "id": "ce03b03e",
   "metadata": {},
   "outputs": [],
   "source": [
    "\n",
    "amazon_complete = amazon_complete.merge(duplicate_classification, on=duplicate_cols, how='left')"
   ]
  },
  {
   "cell_type": "code",
   "execution_count": 181,
   "id": "894b0c86",
   "metadata": {},
   "outputs": [],
   "source": [
    "amazon_2015_genuine = amazon_complete[amazon_complete['duplicate_type'] == \"bulk_order\"]\n",
    "amazon_2015_genuine = amazon_2015_genuine.groupby(duplicate_cols, as_index=False).agg({\n",
    "    'quantity': 'sum',\n",
    "    'subtotal_inr': 'sum',\n",
    "    'final_amount_inr': 'sum',\n",
    "    'transaction_id': lambda x: ','.join(x)  # keep record of transaction ids\n",
    "})\n"
   ]
  },
  {
   "cell_type": "code",
   "execution_count": 182,
   "id": "159aa21a",
   "metadata": {},
   "outputs": [
    {
     "data": {
      "text/html": [
       "<div>\n",
       "<style scoped>\n",
       "    .dataframe tbody tr th:only-of-type {\n",
       "        vertical-align: middle;\n",
       "    }\n",
       "\n",
       "    .dataframe tbody tr th {\n",
       "        vertical-align: top;\n",
       "    }\n",
       "\n",
       "    .dataframe thead th {\n",
       "        text-align: right;\n",
       "    }\n",
       "</style>\n",
       "<table border=\"1\" class=\"dataframe\">\n",
       "  <thead>\n",
       "    <tr style=\"text-align: right;\">\n",
       "      <th></th>\n",
       "      <th>order_date</th>\n",
       "      <th>customer_id</th>\n",
       "      <th>product_id</th>\n",
       "      <th>original_price_inr</th>\n",
       "      <th>discounted_price_inr</th>\n",
       "      <th>quantity</th>\n",
       "      <th>subtotal_inr</th>\n",
       "      <th>final_amount_inr</th>\n",
       "      <th>transaction_id</th>\n",
       "    </tr>\n",
       "  </thead>\n",
       "  <tbody>\n",
       "    <tr>\n",
       "      <th>0</th>\n",
       "      <td>2015-01-01</td>\n",
       "      <td>CUST_2015_00008125</td>\n",
       "      <td>PROD_000060</td>\n",
       "      <td>94029.64</td>\n",
       "      <td>94029.64</td>\n",
       "      <td>2</td>\n",
       "      <td>188059.28</td>\n",
       "      <td>188059.28</td>\n",
       "      <td>TXN_2015_00002000_DUP,TXN_2015_00002000</td>\n",
       "    </tr>\n",
       "    <tr>\n",
       "      <th>1</th>\n",
       "      <td>2015-01-03</td>\n",
       "      <td>CUST_2015_00007653</td>\n",
       "      <td>PROD_000075</td>\n",
       "      <td>35581.67</td>\n",
       "      <td>35581.67</td>\n",
       "      <td>2</td>\n",
       "      <td>71163.34</td>\n",
       "      <td>71163.34</td>\n",
       "      <td>TXN_2015_00000942,TXN_2015_00000942_DUP</td>\n",
       "    </tr>\n",
       "    <tr>\n",
       "      <th>2</th>\n",
       "      <td>2015-01-15</td>\n",
       "      <td>CUST_2015_00005080</td>\n",
       "      <td>PROD_001640</td>\n",
       "      <td>69584.33</td>\n",
       "      <td>60704.57</td>\n",
       "      <td>2</td>\n",
       "      <td>121409.14</td>\n",
       "      <td>121409.14</td>\n",
       "      <td>TXN_2015_00001391,TXN_2015_00001391_DUP</td>\n",
       "    </tr>\n",
       "    <tr>\n",
       "      <th>3</th>\n",
       "      <td>2015-01-17</td>\n",
       "      <td>CUST_2015_00010624</td>\n",
       "      <td>PROD_001935</td>\n",
       "      <td>45363.47</td>\n",
       "      <td>45363.47</td>\n",
       "      <td>4</td>\n",
       "      <td>181453.88</td>\n",
       "      <td>181453.88</td>\n",
       "      <td>TXN_2015_00002138_DUP,TXN_2015_00002138</td>\n",
       "    </tr>\n",
       "    <tr>\n",
       "      <th>4</th>\n",
       "      <td>2015-01-20</td>\n",
       "      <td>CUST_2015_00003918</td>\n",
       "      <td>PROD_000072</td>\n",
       "      <td>20937.46</td>\n",
       "      <td>10120.43</td>\n",
       "      <td>4</td>\n",
       "      <td>40481.72</td>\n",
       "      <td>40481.72</td>\n",
       "      <td>TXN_2015_00002326,TXN_2015_00002326_DUP</td>\n",
       "    </tr>\n",
       "  </tbody>\n",
       "</table>\n",
       "</div>"
      ],
      "text/plain": [
       "  order_date         customer_id   product_id  original_price_inr  \\\n",
       "0 2015-01-01  CUST_2015_00008125  PROD_000060            94029.64   \n",
       "1 2015-01-03  CUST_2015_00007653  PROD_000075            35581.67   \n",
       "2 2015-01-15  CUST_2015_00005080  PROD_001640            69584.33   \n",
       "3 2015-01-17  CUST_2015_00010624  PROD_001935            45363.47   \n",
       "4 2015-01-20  CUST_2015_00003918  PROD_000072            20937.46   \n",
       "\n",
       "   discounted_price_inr  quantity  subtotal_inr  final_amount_inr  \\\n",
       "0              94029.64         2     188059.28         188059.28   \n",
       "1              35581.67         2      71163.34          71163.34   \n",
       "2              60704.57         2     121409.14         121409.14   \n",
       "3              45363.47         4     181453.88         181453.88   \n",
       "4              10120.43         4      40481.72          40481.72   \n",
       "\n",
       "                            transaction_id  \n",
       "0  TXN_2015_00002000_DUP,TXN_2015_00002000  \n",
       "1  TXN_2015_00000942,TXN_2015_00000942_DUP  \n",
       "2  TXN_2015_00001391,TXN_2015_00001391_DUP  \n",
       "3  TXN_2015_00002138_DUP,TXN_2015_00002138  \n",
       "4  TXN_2015_00002326,TXN_2015_00002326_DUP  "
      ]
     },
     "execution_count": 182,
     "metadata": {},
     "output_type": "execute_result"
    }
   ],
   "source": [
    "amazon_2015_genuine.head()"
   ]
  },
  {
   "cell_type": "markdown",
   "id": "8389887b",
   "metadata": {},
   "source": [
    "## Outlier "
   ]
  },
  {
   "cell_type": "code",
   "execution_count": 183,
   "id": "3e965034",
   "metadata": {},
   "outputs": [],
   "source": [
    "def flag_price_outliers(df):\n",
    "    outlier_mask = pd.Series(False, index=df.index)\n",
    "\n",
    "    # Group by subcategory & brand\n",
    "    for (sub, br), group in df.groupby(['subcategory', 'brand']):\n",
    "        q1 = group['original_price_inr'].quantile(0.25)\n",
    "        q3 = group['original_price_inr'].quantile(0.75)\n",
    "        iqr = q3 - q1\n",
    "        lower = q1 - 1.5 * iqr\n",
    "        upper = q3 + 1.5 * iqr\n",
    "\n",
    "        # Mark outliers within this group\n",
    "        outlier_mask.loc[group.index] = (group['original_price_inr'] < lower) | (group['original_price_inr'] > upper)\n",
    "\n",
    "    return outlier_mask\n",
    "\n",
    "# Apply function\n",
    "amazon_complete['price_outlier_IQR'] = flag_price_outliers(amazon_complete)"
   ]
  },
  {
   "cell_type": "code",
   "execution_count": 184,
   "id": "8aee3bd1",
   "metadata": {},
   "outputs": [
    {
     "data": {
      "text/plain": [
       "10846"
      ]
     },
     "execution_count": 184,
     "metadata": {},
     "output_type": "execute_result"
    }
   ],
   "source": [
    "amazon_complete['price_outlier_IQR'][amazon_complete['price_outlier_IQR']==True].count()"
   ]
  },
  {
   "cell_type": "code",
   "execution_count": 185,
   "id": "00e067a0",
   "metadata": {},
   "outputs": [],
   "source": [
    "def flag_price_outliers_sigma(df):\n",
    "    outlier_mask = pd.Series(False, index=df.index)\n",
    "\n",
    "    # Group by subcategory & brand\n",
    "    for (sub, br), group in df.groupby(['subcategory', 'brand']):\n",
    "        mean = group['original_price_inr'].mean()\n",
    "        std = group['original_price_inr'].std()\n",
    "\n",
    "        # Avoid division by zero for groups with 1 row or zero std\n",
    "        if pd.isna(std) or std == 0:\n",
    "            continue\n",
    "        upper = mean + 3 * std\n",
    "        lower = mean - 3 * std\n",
    "\n",
    "        # Mark outliers in this group\n",
    "        outlier_mask.loc[group.index] = (group['original_price_inr'] < lower) | (group['original_price_inr'] > upper)\n",
    "\n",
    "    return outlier_mask\n",
    "\n",
    "amazon_complete['price_outlier_3_sigma'] = flag_price_outliers_sigma(amazon_complete)\n"
   ]
  },
  {
   "cell_type": "code",
   "execution_count": 186,
   "id": "8e9510e5",
   "metadata": {},
   "outputs": [
    {
     "data": {
      "text/plain": [
       "2790"
      ]
     },
     "execution_count": 186,
     "metadata": {},
     "output_type": "execute_result"
    }
   ],
   "source": [
    "amazon_complete['price_outlier_3_sigma'][amazon_complete['price_outlier_3_sigma']==True].count()"
   ]
  },
  {
   "cell_type": "code",
   "execution_count": 187,
   "id": "e3d6f73c",
   "metadata": {},
   "outputs": [
    {
     "data": {
      "text/html": [
       "<div>\n",
       "<style scoped>\n",
       "    .dataframe tbody tr th:only-of-type {\n",
       "        vertical-align: middle;\n",
       "    }\n",
       "\n",
       "    .dataframe tbody tr th {\n",
       "        vertical-align: top;\n",
       "    }\n",
       "\n",
       "    .dataframe thead th {\n",
       "        text-align: right;\n",
       "    }\n",
       "</style>\n",
       "<table border=\"1\" class=\"dataframe\">\n",
       "  <thead>\n",
       "    <tr style=\"text-align: right;\">\n",
       "      <th></th>\n",
       "      <th>transaction_id</th>\n",
       "      <th>order_date</th>\n",
       "      <th>customer_id</th>\n",
       "      <th>product_id</th>\n",
       "      <th>product_name</th>\n",
       "      <th>category</th>\n",
       "      <th>subcategory</th>\n",
       "      <th>brand</th>\n",
       "      <th>original_price_inr</th>\n",
       "      <th>discount_percent</th>\n",
       "      <th>discounted_price_inr</th>\n",
       "      <th>quantity</th>\n",
       "      <th>subtotal_inr</th>\n",
       "      <th>delivery_charges</th>\n",
       "      <th>final_amount_inr</th>\n",
       "      <th>customer_city</th>\n",
       "      <th>customer_state</th>\n",
       "      <th>customer_tier</th>\n",
       "      <th>customer_spending_tier</th>\n",
       "      <th>customer_age_group</th>\n",
       "      <th>payment_method</th>\n",
       "      <th>delivery_days</th>\n",
       "      <th>delivery_type</th>\n",
       "      <th>is_prime_member</th>\n",
       "      <th>is_festival_sale</th>\n",
       "      <th>festival_name</th>\n",
       "      <th>customer_rating</th>\n",
       "      <th>return_status</th>\n",
       "      <th>order_month</th>\n",
       "      <th>order_year</th>\n",
       "      <th>order_quarter</th>\n",
       "      <th>product_weight_kg</th>\n",
       "      <th>is_prime_eligible</th>\n",
       "      <th>product_rating</th>\n",
       "      <th>is_duplicate</th>\n",
       "      <th>duplicate_type</th>\n",
       "      <th>price_outlier_IQR</th>\n",
       "      <th>price_outlier_3_sigma</th>\n",
       "    </tr>\n",
       "  </thead>\n",
       "  <tbody>\n",
       "    <tr>\n",
       "      <th>325</th>\n",
       "      <td>TXN_2019_00090721</td>\n",
       "      <td>2019-10-28</td>\n",
       "      <td>CUST_2019_00018735</td>\n",
       "      <td>PROD_001957</td>\n",
       "      <td>Noise Sports Watch Premium</td>\n",
       "      <td>Electronics</td>\n",
       "      <td>Smart Watch</td>\n",
       "      <td>Noise</td>\n",
       "      <td>4631753.0</td>\n",
       "      <td>59.49</td>\n",
       "      <td>18764.62</td>\n",
       "      <td>2</td>\n",
       "      <td>37529.24</td>\n",
       "      <td>0.0</td>\n",
       "      <td>37529.24</td>\n",
       "      <td>Bengaluru</td>\n",
       "      <td>Karnataka</td>\n",
       "      <td>Metro</td>\n",
       "      <td>Premium</td>\n",
       "      <td>26-35</td>\n",
       "      <td>COD</td>\n",
       "      <td>3</td>\n",
       "      <td>Standard</td>\n",
       "      <td>False</td>\n",
       "      <td>True</td>\n",
       "      <td>Diwali Sale</td>\n",
       "      <td>5.0</td>\n",
       "      <td>Delivered</td>\n",
       "      <td>10</td>\n",
       "      <td>2019</td>\n",
       "      <td>4</td>\n",
       "      <td>0.03</td>\n",
       "      <td>False</td>\n",
       "      <td>4.2</td>\n",
       "      <td>False</td>\n",
       "      <td>NaN</td>\n",
       "      <td>True</td>\n",
       "      <td>True</td>\n",
       "    </tr>\n",
       "    <tr>\n",
       "      <th>548</th>\n",
       "      <td>TXN_2017_00032735</td>\n",
       "      <td>2017-06-03</td>\n",
       "      <td>CUST_2015_00008001</td>\n",
       "      <td>PROD_001980</td>\n",
       "      <td>Samsung 4K TV</td>\n",
       "      <td>Electronics</td>\n",
       "      <td>TV &amp; Entertainment</td>\n",
       "      <td>Samsung</td>\n",
       "      <td>13099514.0</td>\n",
       "      <td>0.00</td>\n",
       "      <td>130995.14</td>\n",
       "      <td>1</td>\n",
       "      <td>130995.14</td>\n",
       "      <td>0.0</td>\n",
       "      <td>130995.14</td>\n",
       "      <td>Delhi</td>\n",
       "      <td>Delhi</td>\n",
       "      <td>Metro</td>\n",
       "      <td>Standard</td>\n",
       "      <td>26-35</td>\n",
       "      <td>UPI</td>\n",
       "      <td>6</td>\n",
       "      <td>Standard</td>\n",
       "      <td>False</td>\n",
       "      <td>False</td>\n",
       "      <td>NaN</td>\n",
       "      <td>4.0</td>\n",
       "      <td>Delivered</td>\n",
       "      <td>6</td>\n",
       "      <td>2017</td>\n",
       "      <td>2</td>\n",
       "      <td>41.77</td>\n",
       "      <td>True</td>\n",
       "      <td>4.4</td>\n",
       "      <td>False</td>\n",
       "      <td>NaN</td>\n",
       "      <td>True</td>\n",
       "      <td>True</td>\n",
       "    </tr>\n",
       "  </tbody>\n",
       "</table>\n",
       "</div>"
      ],
      "text/plain": [
       "        transaction_id order_date         customer_id   product_id  \\\n",
       "325  TXN_2019_00090721 2019-10-28  CUST_2019_00018735  PROD_001957   \n",
       "548  TXN_2017_00032735 2017-06-03  CUST_2015_00008001  PROD_001980   \n",
       "\n",
       "                   product_name     category         subcategory    brand  \\\n",
       "325  Noise Sports Watch Premium  Electronics         Smart Watch    Noise   \n",
       "548               Samsung 4K TV  Electronics  TV & Entertainment  Samsung   \n",
       "\n",
       "     original_price_inr  discount_percent  discounted_price_inr  quantity  \\\n",
       "325           4631753.0             59.49              18764.62         2   \n",
       "548          13099514.0              0.00             130995.14         1   \n",
       "\n",
       "     subtotal_inr  delivery_charges  final_amount_inr customer_city  \\\n",
       "325      37529.24               0.0          37529.24     Bengaluru   \n",
       "548     130995.14               0.0         130995.14         Delhi   \n",
       "\n",
       "    customer_state customer_tier customer_spending_tier customer_age_group  \\\n",
       "325      Karnataka         Metro                Premium              26-35   \n",
       "548          Delhi         Metro               Standard              26-35   \n",
       "\n",
       "    payment_method  delivery_days delivery_type  is_prime_member  \\\n",
       "325            COD              3      Standard            False   \n",
       "548            UPI              6      Standard            False   \n",
       "\n",
       "     is_festival_sale festival_name  customer_rating return_status  \\\n",
       "325              True   Diwali Sale              5.0     Delivered   \n",
       "548             False           NaN              4.0     Delivered   \n",
       "\n",
       "     order_month  order_year  order_quarter  product_weight_kg  \\\n",
       "325           10        2019              4               0.03   \n",
       "548            6        2017              2              41.77   \n",
       "\n",
       "     is_prime_eligible  product_rating  is_duplicate duplicate_type  \\\n",
       "325              False             4.2         False            NaN   \n",
       "548               True             4.4         False            NaN   \n",
       "\n",
       "     price_outlier_IQR  price_outlier_3_sigma  \n",
       "325               True                   True  \n",
       "548               True                   True  "
      ]
     },
     "execution_count": 187,
     "metadata": {},
     "output_type": "execute_result"
    }
   ],
   "source": [
    "amazon_complete[amazon_complete['price_outlier_3_sigma']==True].head(2)"
   ]
  },
  {
   "cell_type": "markdown",
   "id": "0a13f1f2",
   "metadata": {},
   "source": [
    "## Payment Method cleaning"
   ]
  },
  {
   "cell_type": "code",
   "execution_count": 188,
   "id": "ae6eb0f1",
   "metadata": {},
   "outputs": [
    {
     "name": "stdout",
     "output_type": "stream",
     "text": [
      "Memory size = 108.20584869384766 MB\n"
     ]
    },
    {
     "data": {
      "text/plain": [
       "array(['COD', 'UPI', 'Debit Card', 'Credit Card', 'Net Banking', 'Wallet',\n",
       "       'BNPL'], dtype=object)"
      ]
     },
     "execution_count": 188,
     "metadata": {},
     "output_type": "execute_result"
    }
   ],
   "source": [
    "print(\"Memory size =\", amazon_complete['payment_method'].memory_usage(deep=True) / (1024 ** 2), \"MB\")\n",
    "amazon_complete[\"payment_method\"].unique()"
   ]
  },
  {
   "cell_type": "code",
   "execution_count": 189,
   "id": "4c6655ba",
   "metadata": {},
   "outputs": [
    {
     "name": "stdout",
     "output_type": "stream",
     "text": [
      "Unique Cleaned Payment Methods: [NaN, 'UPI', 'Debit Card', 'Credit Card', 'Net Banking', 'Wallet', 'BNPL']\n",
      "Categories (7, object): ['Cash on Delivery', 'UPI', 'Credit Card', 'Debit Card', 'Net Banking', 'Wallet', 'BNPL']\n"
     ]
    }
   ],
   "source": [
    "# Define mapping for messy payment method names\n",
    "payment_mapping = {\n",
    "    'COD': 'COD',\n",
    "    'Cash on Delivery': 'COD',\n",
    "    'C.O.D': 'COD',\n",
    "\n",
    "    'UPI': 'UPI',\n",
    "    'PhonePe': 'UPI',\n",
    "    'GooglePay': 'UPI',\n",
    "    'UPI/PhonePe/GooglePay': 'UPI',\n",
    "\n",
    "    'Credit Card': 'Credit Card',\n",
    "    'CREDIT_CARD': 'Credit Card',\n",
    "    'CC': 'Credit Card',\n",
    "\n",
    "    'Debit Card': 'Debit Card',\n",
    "    'DEBIT_CARD': 'Debit Card',\n",
    "    'DC': 'Debit Card',\n",
    "\n",
    "    'Net Banking': 'Net Banking',\n",
    "    'NetBanking': 'Net Banking',\n",
    "\n",
    "    'Wallet': 'Wallet',\n",
    "    'Paytm Wallet': 'Wallet',\n",
    "    'Mobikwik': 'Wallet',\n",
    "\n",
    "    'BNPL': 'BNPL',\n",
    "    'Buy Now Pay Later': 'BNPL'\n",
    "}\n",
    "\n",
    "# 1. Map messy payment methods directly into payment_method\n",
    "amazon_complete['payment_method'] = amazon_complete['payment_method'].replace(payment_mapping)\n",
    "\n",
    "# 2. Convert the cleaned payment_method to categorical for memory savings\n",
    "amazon_complete['payment_method'] = pd.Categorical(\n",
    "    amazon_complete['payment_method'],\n",
    "    categories=['Cash on Delivery', 'UPI', 'Credit Card', 'Debit Card', 'Net Banking', 'Wallet', 'BNPL'],\n",
    "    ordered=False\n",
    ")\n",
    "\n",
    "print(\"Unique Cleaned Payment Methods:\", amazon_complete['payment_method'].unique())\n",
    "\n"
   ]
  },
  {
   "cell_type": "code",
   "execution_count": 191,
   "id": "20df5785",
   "metadata": {},
   "outputs": [
    {
     "data": {
      "text/plain": [
       "CategoricalDtype(categories=['Cash on Delivery', 'UPI', 'Credit Card', 'Debit Card',\n",
       "                  'Net Banking', 'Wallet', 'BNPL'],\n",
       ", ordered=False)"
      ]
     },
     "execution_count": 191,
     "metadata": {},
     "output_type": "execute_result"
    }
   ],
   "source": [
    "amazon_complete['payment_method'].dtype"
   ]
  },
  {
   "cell_type": "code",
   "execution_count": 193,
   "id": "1cabf9f6",
   "metadata": {},
   "outputs": [
    {
     "name": "stdout",
     "output_type": "stream",
     "text": [
      "Memory size = 41.92910861968994 MB\n"
     ]
    }
   ],
   "source": [
    "print(\"Memory size =\", amazon_complete['payment_method'].memory_usage(deep=True) / (1024 ** 2), \"MB\")"
   ]
  },
  {
   "cell_type": "code",
   "execution_count": 194,
   "id": "75cf25a4",
   "metadata": {},
   "outputs": [
    {
     "data": {
      "text/plain": [
       "(1127609, 38)"
      ]
     },
     "execution_count": 194,
     "metadata": {},
     "output_type": "execute_result"
    }
   ],
   "source": [
    "amazon_complete.shape"
   ]
  },
  {
   "cell_type": "code",
   "execution_count": 20,
   "id": "68f50943",
   "metadata": {},
   "outputs": [],
   "source": [
    "# To see all rows (i.e., all columns and their null percentages)\n",
    "pd.set_option('display.max_rows', 50)  # Show all rows"
   ]
  },
  {
   "cell_type": "code",
   "execution_count": 197,
   "id": "88af4cc6",
   "metadata": {},
   "outputs": [
    {
     "data": {
      "text/plain": [
       "transaction_id             0.000000\n",
       "order_date                 0.000000\n",
       "customer_id                0.000000\n",
       "product_id                 0.000000\n",
       "product_name               0.000000\n",
       "category                   0.000000\n",
       "subcategory                0.000000\n",
       "brand                      0.000000\n",
       "original_price_inr         0.000000\n",
       "discount_percent           0.000000\n",
       "discounted_price_inr       0.000000\n",
       "quantity                   0.000000\n",
       "subtotal_inr               0.000000\n",
       "delivery_charges           7.999315\n",
       "final_amount_inr           0.000000\n",
       "customer_city              0.000000\n",
       "customer_state             0.000000\n",
       "customer_tier              0.000000\n",
       "customer_spending_tier     0.000000\n",
       "customer_age_group        12.000170\n",
       "payment_method            28.629693\n",
       "delivery_days              0.000000\n",
       "delivery_type              0.000000\n",
       "is_prime_member            0.000000\n",
       "is_festival_sale           0.000000\n",
       "festival_name             68.972135\n",
       "customer_rating           30.302702\n",
       "return_status              0.000000\n",
       "order_month                0.000000\n",
       "order_year                 0.000000\n",
       "order_quarter              0.000000\n",
       "product_weight_kg          0.000000\n",
       "is_prime_eligible          0.000000\n",
       "product_rating             0.000000\n",
       "is_duplicate               0.000000\n",
       "duplicate_type            99.016858\n",
       "price_outlier_IQR          0.000000\n",
       "price_outlier_3_sigma      0.000000\n",
       "dtype: float64"
      ]
     },
     "execution_count": 197,
     "metadata": {},
     "output_type": "execute_result"
    }
   ],
   "source": [
    "amazon_complete.isnull().sum(axis=0) / amazon_complete.shape[0] * 100"
   ]
  },
  {
   "cell_type": "code",
   "execution_count": null,
   "id": "e675ec17",
   "metadata": {},
   "outputs": [
    {
     "name": "stdout",
     "output_type": "stream",
     "text": [
      "✅ CSV file 'amazon_2015.csv' created successfully!\n"
     ]
    }
   ],
   "source": [
    "amazon_complete.to_csv(\"amazon_complete.csv\", index=False)"
   ]
  },
  {
   "cell_type": "code",
   "execution_count": null,
   "id": "5741d5cb",
   "metadata": {},
   "outputs": [
    {
     "name": "stdout",
     "output_type": "stream",
     "text": [
      "✅ CSV file 'amazon_2015.csv' created successfully!\n"
     ]
    },
    {
     "ename": "",
     "evalue": "",
     "output_type": "error",
     "traceback": [
      "\u001b[1;31mThe Kernel crashed while executing code in the current cell or a previous cell. \n",
      "\u001b[1;31mPlease review the code in the cell(s) to identify a possible cause of the failure. \n",
      "\u001b[1;31mClick <a href='https://aka.ms/vscodeJupyterKernelCrash'>here</a> for more info. \n",
      "\u001b[1;31mView Jupyter <a href='command:jupyter.viewOutput'>log</a> for further details."
     ]
    }
   ],
   "source": [
    "print(\"✅ CSV file 'amazon_2015.csv' created successfully!\")"
   ]
  },
  {
   "cell_type": "code",
   "execution_count": null,
   "id": "14324a18",
   "metadata": {},
   "outputs": [],
   "source": [
    "df=pd.read_csv(\"amazon_complete.csv\")"
   ]
  },
  {
   "cell_type": "code",
   "execution_count": null,
   "id": "3f84714d",
   "metadata": {},
   "outputs": [
    {
     "data": {
      "text/plain": [
       "transaction_id             0.000000\n",
       "order_date                 0.000000\n",
       "customer_id                0.000000\n",
       "product_id                 0.000000\n",
       "product_name               0.000000\n",
       "category                   0.000000\n",
       "subcategory                0.000000\n",
       "brand                      0.000000\n",
       "original_price_inr         0.000000\n",
       "discount_percent           0.000000\n",
       "discounted_price_inr       0.000000\n",
       "quantity                   0.000000\n",
       "subtotal_inr               0.000000\n",
       "delivery_charges           0.000000\n",
       "final_amount_inr           0.000000\n",
       "customer_city              0.000000\n",
       "customer_state             0.000000\n",
       "customer_tier              0.000000\n",
       "customer_spending_tier     0.000000\n",
       "customer_age_group         0.000000\n",
       "payment_method             0.000000\n",
       "delivery_days              0.000000\n",
       "delivery_type              0.000000\n",
       "is_prime_member            0.000000\n",
       "is_festival_sale           0.000000\n",
       "festival_name             68.972135\n",
       "customer_rating            0.000000\n",
       "return_status              0.000000\n",
       "order_month                0.000000\n",
       "order_year                 0.000000\n",
       "order_quarter              0.000000\n",
       "product_weight_kg          0.000000\n",
       "is_prime_eligible          0.000000\n",
       "product_rating             0.000000\n",
       "is_duplicate               0.000000\n",
       "duplicate_type             0.000000\n",
       "price_outlier_IQR          0.000000\n",
       "price_outlier_3_sigma      0.000000\n",
       "dtype: float64"
      ]
     },
     "execution_count": 49,
     "metadata": {},
     "output_type": "execute_result"
    }
   ],
   "source": [
    "#df.isnull().sum(axis=0) / df.shape[0] * 100"
   ]
  },
  {
   "cell_type": "code",
   "execution_count": 47,
   "id": "bf7c2475",
   "metadata": {},
   "outputs": [],
   "source": [
    "df['customer_rating'] = df['customer_rating'].fillna(-1)"
   ]
  },
  {
   "cell_type": "code",
   "execution_count": 43,
   "id": "a06da3f4",
   "metadata": {},
   "outputs": [],
   "source": [
    "df['payment_method'] = df['payment_method'].fillna('Not define')"
   ]
  },
  {
   "cell_type": "code",
   "execution_count": 39,
   "id": "575e9fe1",
   "metadata": {},
   "outputs": [],
   "source": [
    "df['customer_age_group'] = df['customer_age_group'].fillna('26-35')"
   ]
  },
  {
   "cell_type": "code",
   "execution_count": 33,
   "id": "c99baeb5",
   "metadata": {},
   "outputs": [],
   "source": [
    "df['delivery_charges'] = df['delivery_charges'].fillna(0)"
   ]
  },
  {
   "cell_type": "code",
   "execution_count": 34,
   "id": "3dc1ec7c",
   "metadata": {},
   "outputs": [],
   "source": [
    "df['duplicate_type'] = df['duplicate_type'].fillna('normal')"
   ]
  },
  {
   "cell_type": "code",
   "execution_count": 50,
   "id": "b2e9fc1b",
   "metadata": {},
   "outputs": [],
   "source": [
    "df.to_csv(\"amazon_customer.csv\", index=False)"
   ]
  },
  {
   "cell_type": "code",
   "execution_count": null,
   "id": "58985a4f",
   "metadata": {},
   "outputs": [],
   "source": []
  },
  {
   "cell_type": "code",
   "execution_count": 52,
   "id": "9cedcd9c",
   "metadata": {},
   "outputs": [],
   "source": [
    "df = pd.read_csv(os.path.join(dataset_folder, \"amazon_india_products_catalog.csv\"))"
   ]
  },
  {
   "cell_type": "code",
   "execution_count": 64,
   "id": "adcc54ff",
   "metadata": {},
   "outputs": [
    {
     "data": {
      "text/plain": [
       "True     1654\n",
       "False     350\n",
       "Name: is_prime_eligible, dtype: int64"
      ]
     },
     "execution_count": 64,
     "metadata": {},
     "output_type": "execute_result"
    }
   ],
   "source": [
    "df[\"is_prime_eligible\"].value_counts(dropna=False)"
   ]
  },
  {
   "cell_type": "code",
   "execution_count": null,
   "id": "231a25b0",
   "metadata": {},
   "outputs": [
    {
     "name": "stdout",
     "output_type": "stream",
     "text": [
      "After conversion:\n",
      "1    1654\n",
      "0     350\n",
      "Name: is_prime_eligible, dtype: int64\n"
     ]
    }
   ],
   "source": [
    "df[\"is_prime_eligible\"] = df[\"is_prime_eligible\"].astype(int)"
   ]
  },
  {
   "cell_type": "code",
   "execution_count": 68,
   "id": "7770fb80",
   "metadata": {},
   "outputs": [],
   "source": [
    "df.to_csv(\"amazon_products.csv\", index=False)"
   ]
  }
 ],
 "metadata": {
  "kernelspec": {
   "display_name": "base",
   "language": "python",
   "name": "python3"
  },
  "language_info": {
   "codemirror_mode": {
    "name": "ipython",
    "version": 3
   },
   "file_extension": ".py",
   "mimetype": "text/x-python",
   "name": "python",
   "nbconvert_exporter": "python",
   "pygments_lexer": "ipython3",
   "version": "3.10.18"
  }
 },
 "nbformat": 4,
 "nbformat_minor": 5
}
